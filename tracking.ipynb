{
 "cells": [
  {
   "attachments": {},
   "cell_type": "markdown",
   "metadata": {},
   "source": [
    "# Emotional Sentiment through Mouse and Keyboard Dynamics\n",
    "Ryan J Meneses, 2023\n",
    "\n",
    "## Description\n",
    "chillpill is an application that collects mouse and keyboard dynamics data from a user and uses it to predict their emotional state. This notebook analyzes the data collected from the application's data collection API and trains linear model to predict the user's emotional state."
   ]
  },
  {
   "cell_type": "code",
   "execution_count": 1,
   "metadata": {},
   "outputs": [],
   "source": [
    "import os\n",
    "\n",
    "from src.util import file"
   ]
  },
  {
   "cell_type": "code",
   "execution_count": 2,
   "metadata": {},
   "outputs": [
    {
     "name": "stdout",
     "output_type": "stream",
     "text": [
      "Loaded 20230503-155648.csv with 100001 rows.\n",
      "Loaded 20230503-214649.csv with 100000 rows.\n",
      "Loaded 20230503-023014.csv with 100000 rows.\n"
     ]
    },
    {
     "data": {
      "text/html": [
       "<div>\n",
       "<style scoped>\n",
       "    .dataframe tbody tr th:only-of-type {\n",
       "        vertical-align: middle;\n",
       "    }\n",
       "\n",
       "    .dataframe tbody tr th {\n",
       "        vertical-align: top;\n",
       "    }\n",
       "\n",
       "    .dataframe thead th {\n",
       "        text-align: right;\n",
       "    }\n",
       "</style>\n",
       "<table border=\"1\" class=\"dataframe\">\n",
       "  <thead>\n",
       "    <tr style=\"text-align: right;\">\n",
       "      <th></th>\n",
       "      <th>id</th>\n",
       "      <th>time</th>\n",
       "      <th>x</th>\n",
       "      <th>y</th>\n",
       "      <th>scroll</th>\n",
       "      <th>press</th>\n",
       "      <th>release</th>\n",
       "      <th>feeling</th>\n",
       "    </tr>\n",
       "  </thead>\n",
       "  <tbody>\n",
       "    <tr>\n",
       "      <th>0</th>\n",
       "      <td>1</td>\n",
       "      <td>1.683096e+09</td>\n",
       "      <td>0.000000</td>\n",
       "      <td>0.000000</td>\n",
       "      <td>0</td>\n",
       "      <td>0</td>\n",
       "      <td>50</td>\n",
       "      <td>1</td>\n",
       "    </tr>\n",
       "    <tr>\n",
       "      <th>1</th>\n",
       "      <td>2</td>\n",
       "      <td>1.683096e+09</td>\n",
       "      <td>379.273438</td>\n",
       "      <td>362.273438</td>\n",
       "      <td>0</td>\n",
       "      <td>0</td>\n",
       "      <td>0</td>\n",
       "      <td>1</td>\n",
       "    </tr>\n",
       "    <tr>\n",
       "      <th>2</th>\n",
       "      <td>3</td>\n",
       "      <td>1.683096e+09</td>\n",
       "      <td>381.156250</td>\n",
       "      <td>362.273438</td>\n",
       "      <td>0</td>\n",
       "      <td>0</td>\n",
       "      <td>0</td>\n",
       "      <td>1</td>\n",
       "    </tr>\n",
       "    <tr>\n",
       "      <th>3</th>\n",
       "      <td>4</td>\n",
       "      <td>1.683096e+09</td>\n",
       "      <td>383.039062</td>\n",
       "      <td>362.273438</td>\n",
       "      <td>0</td>\n",
       "      <td>0</td>\n",
       "      <td>0</td>\n",
       "      <td>1</td>\n",
       "    </tr>\n",
       "    <tr>\n",
       "      <th>4</th>\n",
       "      <td>5</td>\n",
       "      <td>1.683096e+09</td>\n",
       "      <td>385.894531</td>\n",
       "      <td>362.273438</td>\n",
       "      <td>0</td>\n",
       "      <td>0</td>\n",
       "      <td>0</td>\n",
       "      <td>1</td>\n",
       "    </tr>\n",
       "  </tbody>\n",
       "</table>\n",
       "</div>"
      ],
      "text/plain": [
       "   id          time           x           y  scroll  press  release  feeling\n",
       "0   1  1.683096e+09    0.000000    0.000000       0      0       50        1\n",
       "1   2  1.683096e+09  379.273438  362.273438       0      0        0        1\n",
       "2   3  1.683096e+09  381.156250  362.273438       0      0        0        1\n",
       "3   4  1.683096e+09  383.039062  362.273438       0      0        0        1\n",
       "4   5  1.683096e+09  385.894531  362.273438       0      0        0        1"
      ]
     },
     "execution_count": 2,
     "metadata": {},
     "output_type": "execute_result"
    }
   ],
   "source": [
    "tracking_data = {}\n",
    "for filename in os.listdir(file.TRACKING_PATH):\n",
    "    if filename.endswith(\".csv\"):\n",
    "        tracking_data[filename] = file.load_tracking_file(filename)\n",
    "        print(f\"Loaded {filename} with {len(tracking_data[filename])} rows.\")\n",
    "\n",
    "tracking_data[\"20230503-023014.csv\"].head()"
   ]
  }
 ],
 "metadata": {
  "kernelspec": {
   "display_name": ".venv",
   "language": "python",
   "name": "python3"
  },
  "language_info": {
   "codemirror_mode": {
    "name": "ipython",
    "version": 3
   },
   "file_extension": ".py",
   "mimetype": "text/x-python",
   "name": "python",
   "nbconvert_exporter": "python",
   "pygments_lexer": "ipython3",
   "version": "3.11.2"
  },
  "orig_nbformat": 4,
  "vscode": {
   "interpreter": {
    "hash": "10095355391460196985941c840197a090d84214af7385c911e932b0a3d9fb48"
   }
  }
 },
 "nbformat": 4,
 "nbformat_minor": 2
}
